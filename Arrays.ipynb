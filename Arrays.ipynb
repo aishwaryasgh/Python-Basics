{
 "cells": [
  {
   "cell_type": "code",
   "execution_count": 1,
   "id": "24e8647a",
   "metadata": {},
   "outputs": [
    {
     "name": "stdout",
     "output_type": "stream",
     "text": [
      "Requirement already satisfied: numpy in c:\\users\\aishw\\python\\lib\\site-packages (2.2.1)\n",
      "Note: you may need to restart the kernel to use updated packages.\n"
     ]
    }
   ],
   "source": [
    "pip install numpy\n"
   ]
  },
  {
   "cell_type": "code",
   "execution_count": 3,
   "id": "a671807a",
   "metadata": {},
   "outputs": [],
   "source": [
    "import numpy as np"
   ]
  },
  {
   "cell_type": "code",
   "execution_count": null,
   "id": "92fd7b7e",
   "metadata": {},
   "outputs": [],
   "source": [
    "dir(np)"
   ]
  },
  {
   "cell_type": "code",
   "execution_count": null,
   "id": "bd51b2aa",
   "metadata": {},
   "outputs": [],
   "source": [
    "help(np.bartlett)"
   ]
  },
  {
   "cell_type": "code",
   "execution_count": null,
   "id": "5a37fb3c",
   "metadata": {},
   "outputs": [],
   "source": [
    "help(np.v*)"
   ]
  },
  {
   "cell_type": "code",
   "execution_count": null,
   "id": "c54be4ba",
   "metadata": {},
   "outputs": [],
   "source": [
    "zerodarray= np.array(5)"
   ]
  },
  {
   "cell_type": "code",
   "execution_count": null,
   "id": "be71fa4e",
   "metadata": {},
   "outputs": [],
   "source": [
    "print(zerodarray.ndim)"
   ]
  },
  {
   "cell_type": "code",
   "execution_count": null,
   "id": "abc05782",
   "metadata": {},
   "outputs": [],
   "source": [
    "print(type(zerodarray.ndim))"
   ]
  },
  {
   "cell_type": "code",
   "execution_count": null,
   "id": "0e010a9c",
   "metadata": {},
   "outputs": [],
   "source": [
    "print(zerodarray.shape)"
   ]
  },
  {
   "cell_type": "code",
   "execution_count": null,
   "id": "95dcb87c",
   "metadata": {},
   "outputs": [],
   "source": [
    "print(zerodarray.size)"
   ]
  },
  {
   "cell_type": "code",
   "execution_count": null,
   "id": "cc953891",
   "metadata": {},
   "outputs": [],
   "source": [
    "print(zerodarray.dtype)"
   ]
  },
  {
   "cell_type": "code",
   "execution_count": null,
   "id": "662e3156",
   "metadata": {},
   "outputs": [],
   "source": [
    "print(zerodarray.dtype)"
   ]
  },
  {
   "cell_type": "code",
   "execution_count": null,
   "id": "9f5e8695",
   "metadata": {},
   "outputs": [],
   "source": [
    "print(len(zerodarray.dtype)"
   ]
  },
  {
   "cell_type": "code",
   "execution_count": null,
   "id": "d90f49f6",
   "metadata": {},
   "outputs": [],
   "source": [
    "onedarray= np.array([5,2,3,2,1])"
   ]
  },
  {
   "cell_type": "code",
   "execution_count": null,
   "id": "0c9f60b2",
   "metadata": {},
   "outputs": [],
   "source": [
    "print(onedarray.ndim)"
   ]
  },
  {
   "cell_type": "code",
   "execution_count": null,
   "id": "bbf9e18b",
   "metadata": {},
   "outputs": [],
   "source": [
    "print(onedarray.size)"
   ]
  },
  {
   "cell_type": "code",
   "execution_count": null,
   "id": "133034c8",
   "metadata": {},
   "outputs": [],
   "source": [
    "print(onedarray.shape)"
   ]
  },
  {
   "cell_type": "code",
   "execution_count": null,
   "id": "7138a952",
   "metadata": {},
   "outputs": [],
   "source": [
    "print(onedarray.dtype)"
   ]
  },
  {
   "cell_type": "code",
   "execution_count": null,
   "id": "635efd57",
   "metadata": {},
   "outputs": [],
   "source": [
    "len(onedarray)"
   ]
  },
  {
   "cell_type": "code",
   "execution_count": 5,
   "id": "fde6908e",
   "metadata": {},
   "outputs": [],
   "source": [
    "twodarray= np.array([[5,24,31,12,3],[11,24,37,50,89],[10,12,14,15]],dtype=object)"
   ]
  },
  {
   "cell_type": "code",
   "execution_count": 6,
   "id": "dc17c518",
   "metadata": {},
   "outputs": [
    {
     "name": "stdout",
     "output_type": "stream",
     "text": [
      "(3,)\n"
     ]
    }
   ],
   "source": [
    "print(twodarray.shape)"
   ]
  },
  {
   "cell_type": "code",
   "execution_count": null,
   "id": "f95419d7",
   "metadata": {},
   "outputs": [],
   "source": [
    "print(twodarray.size)"
   ]
  },
  {
   "cell_type": "code",
   "execution_count": null,
   "id": "c6854529",
   "metadata": {},
   "outputs": [],
   "source": [
    "twodarray= np.array([[5,24,31,12,3],[11,24,37,50,89],[0,0,0,0,0]])"
   ]
  },
  {
   "cell_type": "code",
   "execution_count": null,
   "id": "7eb91868",
   "metadata": {},
   "outputs": [],
   "source": [
    "twodarray = np.array([[5, 24, 31, 12, 3], [11, 24, 37, 50, 89], [10, 12, 14, 15]],dtype=object)"
   ]
  },
  {
   "cell_type": "code",
   "execution_count": null,
   "id": "20b4af28",
   "metadata": {},
   "outputs": [],
   "source": [
    "threedarray = np.array([\n",
    "                        [[5, 24, 31, 12, 3], [11, 24, 37, 50, 89], [10, 12, 14]],\n",
    "                        [[5, 24, 31, 12, 3], [11, 24, 37, 50, 89], [10, 12, 14]],\n",
    "                        [[5, 24, 31, 12, 3], [11, 24, 37, 50, 89], [10, 12, 14]]\n",
    "                         ],dtype=object)"
   ]
  },
  {
   "cell_type": "code",
   "execution_count": null,
   "id": "76daa887",
   "metadata": {},
   "outputs": [],
   "source": [
    "print(threedarray.shape)"
   ]
  },
  {
   "cell_type": "code",
   "execution_count": null,
   "id": "108c9a9f",
   "metadata": {},
   "outputs": [],
   "source": [
    "threedarray = np.array([\n",
    "    [[5, 24, 31, 12], [3, 11, 24, 37], [50, 89, 10, 12]],\n",
    "    [[14, 15, 5, 24], [31, 12, 3, 11], [24, 37, 50, 89]]\n",
    "])\n",
    "print(threedarray.shape)  # Output: (2, 3, 4)\n",
    "print(threedarray)"
   ]
  },
  {
   "cell_type": "code",
   "execution_count": null,
   "id": "769eb534",
   "metadata": {},
   "outputs": [],
   "source": [
    "print(twodarray.itemsize)"
   ]
  },
  {
   "cell_type": "code",
   "execution_count": null,
   "id": "3b545c22",
   "metadata": {},
   "outputs": [],
   "source": [
    "print(twodarray.data)"
   ]
  },
  {
   "cell_type": "code",
   "execution_count": null,
   "id": "1c5ce8bc",
   "metadata": {},
   "outputs": [],
   "source": [
    "example =  np.array([728, 482, 564, 926, 285, 156, 434,  22, 807, 719, 472, 999, 531,\n",
    "\n",
    "       336, 325, 444, 456,  62, 567, 826])"
   ]
  },
  {
   "cell_type": "code",
   "execution_count": null,
   "id": "85ef56d3",
   "metadata": {},
   "outputs": [],
   "source": [
    "print(example.shape)"
   ]
  },
  {
   "cell_type": "code",
   "execution_count": null,
   "id": "9fddba96",
   "metadata": {},
   "outputs": [],
   "source": [
    "print(example.size)"
   ]
  },
  {
   "cell_type": "code",
   "execution_count": null,
   "id": "2250ed71",
   "metadata": {},
   "outputs": [],
   "source": [
    "print(example)\n",
    "print(example.shape)"
   ]
  },
  {
   "cell_type": "code",
   "execution_count": null,
   "id": "be63a579",
   "metadata": {},
   "outputs": [],
   "source": [
    "example.transpose()\n",
    "print(example.shape)"
   ]
  },
  {
   "cell_type": "code",
   "execution_count": null,
   "id": "ab5f5b7f",
   "metadata": {},
   "outputs": [],
   "source": [
    "twodarray.flatten()"
   ]
  },
  {
   "cell_type": "code",
   "execution_count": null,
   "id": "bcf0146c",
   "metadata": {},
   "outputs": [],
   "source": [
    "example.flatten() #used to convert to one dimension aarray"
   ]
  },
  {
   "cell_type": "code",
   "execution_count": null,
   "id": "2d45714f",
   "metadata": {},
   "outputs": [],
   "source": [
    "twodarray.ravel() #used to convert to one dimension aarray"
   ]
  },
  {
   "cell_type": "code",
   "execution_count": null,
   "id": "bcf478d0",
   "metadata": {},
   "outputs": [],
   "source": [
    "print(twodarray)"
   ]
  },
  {
   "cell_type": "code",
   "execution_count": null,
   "id": "d1c502b0",
   "metadata": {},
   "outputs": [],
   "source": [
    "arr=np.array([1,2,3,4,5,6]).reshape(2,3)"
   ]
  },
  {
   "cell_type": "code",
   "execution_count": null,
   "id": "8b59905d",
   "metadata": {},
   "outputs": [],
   "source": [
    "print(arr)"
   ]
  },
  {
   "cell_type": "code",
   "execution_count": null,
   "id": "90f3c88a",
   "metadata": {},
   "outputs": [],
   "source": [
    "np.ravel(arr,order='F')"
   ]
  },
  {
   "cell_type": "code",
   "execution_count": null,
   "id": "fff34742",
   "metadata": {},
   "outputs": [],
   "source": [
    "np.ravel(arr,order='C')"
   ]
  },
  {
   "cell_type": "code",
   "execution_count": null,
   "id": "94a7ae4e",
   "metadata": {},
   "outputs": [],
   "source": [
    "np.ravel(arr,order='A')"
   ]
  }
 ],
 "metadata": {
  "kernelspec": {
   "display_name": "Python 3 (ipykernel)",
   "language": "python",
   "name": "python3"
  },
  "language_info": {
   "codemirror_mode": {
    "name": "ipython",
    "version": 3
   },
   "file_extension": ".py",
   "mimetype": "text/x-python",
   "name": "python",
   "nbconvert_exporter": "python",
   "pygments_lexer": "ipython3",
   "version": "3.11.5"
  }
 },
 "nbformat": 4,
 "nbformat_minor": 5
}
